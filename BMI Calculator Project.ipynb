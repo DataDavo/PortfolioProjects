{
 "cells": [
  {
   "cell_type": "markdown",
   "id": "deaa5f35",
   "metadata": {},
   "source": [
    "# BMI Calculator"
   ]
  },
  {
   "cell_type": "markdown",
   "id": "91630f4c",
   "metadata": {},
   "source": [
    "Prompts for weight in pounds and converts it into an integer."
   ]
  },
  {
   "cell_type": "code",
   "execution_count": 5,
   "id": "568a90a4",
   "metadata": {},
   "outputs": [
    {
     "name": "stdout",
     "output_type": "stream",
     "text": [
      "Enter your weight in pounds: 170\n"
     ]
    }
   ],
   "source": [
    "weight = int(input('Enter your weight in pounds: '))"
   ]
  },
  {
   "cell_type": "markdown",
   "id": "40fe9c50",
   "metadata": {},
   "source": [
    "Prompts for height in inches and converts it into an integer."
   ]
  },
  {
   "cell_type": "code",
   "execution_count": 6,
   "id": "48006e45",
   "metadata": {},
   "outputs": [
    {
     "name": "stdout",
     "output_type": "stream",
     "text": [
      "Enter your height in inches: 70\n"
     ]
    }
   ],
   "source": [
    "height = int(input('Enter your height in inches: '))"
   ]
  },
  {
   "cell_type": "markdown",
   "id": "587db154",
   "metadata": {},
   "source": [
    "Calculates BMI using the stored weight and height."
   ]
  },
  {
   "cell_type": "code",
   "execution_count": 12,
   "id": "c5b58cd8",
   "metadata": {},
   "outputs": [
    {
     "name": "stdout",
     "output_type": "stream",
     "text": [
      "Your BMI is  24.39\n"
     ]
    }
   ],
   "source": [
    "BMI = (weight * 703) / (height ** 2)\n",
    "\n",
    "print('Your BMI is ', round(BMI,2))"
   ]
  },
  {
   "cell_type": "markdown",
   "id": "26d38f74",
   "metadata": {},
   "source": [
    "Returns info about the BMI calculated."
   ]
  },
  {
   "cell_type": "code",
   "execution_count": 9,
   "id": "71a38c03",
   "metadata": {},
   "outputs": [
    {
     "name": "stdout",
     "output_type": "stream",
     "text": [
      "Normal weight. Minimal risk.\n"
     ]
    }
   ],
   "source": [
    "if BMI < 18.5:\n",
    "    print('Underweight. Minimal risk.')\n",
    "elif BMI < 24.9:\n",
    "    print('Normal weight. Minimal risk.')\n",
    "elif BMI < 29.9:\n",
    "    print('Overweight. Increased risk.')\n",
    "elif BMI < 34.9:\n",
    "    print('Obese. High risk.')\n",
    "elif BMI < 39.9:\n",
    "    print('Severely obese. Very high risk.')\n",
    "else:\n",
    "    print('Morbidly obese. Extremely high risk')"
   ]
  },
  {
   "cell_type": "code",
   "execution_count": null,
   "id": "7e2dcc45",
   "metadata": {},
   "outputs": [],
   "source": []
  }
 ],
 "metadata": {
  "kernelspec": {
   "display_name": "Python 3 (ipykernel)",
   "language": "python",
   "name": "python3"
  },
  "language_info": {
   "codemirror_mode": {
    "name": "ipython",
    "version": 3
   },
   "file_extension": ".py",
   "mimetype": "text/x-python",
   "name": "python",
   "nbconvert_exporter": "python",
   "pygments_lexer": "ipython3",
   "version": "3.9.13"
  }
 },
 "nbformat": 4,
 "nbformat_minor": 5
}
