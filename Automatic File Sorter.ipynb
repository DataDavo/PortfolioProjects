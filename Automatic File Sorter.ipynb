{
 "cells": [
  {
   "cell_type": "markdown",
   "id": "2af14de8",
   "metadata": {},
   "source": [
    "Import os and shutil modules. The OS module in Python provides functions for interacting with the operating system and the Shutil module in Python provides many functions of high-level operations on files and collections of files."
   ]
  },
  {
   "cell_type": "code",
   "execution_count": 1,
   "id": "659af590",
   "metadata": {},
   "outputs": [],
   "source": [
    "import os, shutil"
   ]
  },
  {
   "cell_type": "markdown",
   "id": "18c0572f",
   "metadata": {},
   "source": [
    "Makes a variable 'path' and assigns the path for the folder that has the files I want to sort. "
   ]
  },
  {
   "cell_type": "code",
   "execution_count": 6,
   "id": "5b05bdbd",
   "metadata": {},
   "outputs": [],
   "source": [
    "path = r'/Users/davester/Documents/Projects/'"
   ]
  },
  {
   "cell_type": "markdown",
   "id": "bcc58da4",
   "metadata": {},
   "source": [
    "Adds the names of the files in the folder indicated by path to 'file_names.'"
   ]
  },
  {
   "cell_type": "code",
   "execution_count": 8,
   "id": "8bc6d4ce",
   "metadata": {},
   "outputs": [],
   "source": [
    "file_names = os.listdir(path)"
   ]
  },
  {
   "cell_type": "markdown",
   "id": "2c90e6b7",
   "metadata": {},
   "source": [
    "Add names of folders I want in above path to 'folder_names' and then loops through 'folder_names' and creates a folder in the directory if it was not already created."
   ]
  },
  {
   "cell_type": "code",
   "execution_count": 7,
   "id": "4e89297d",
   "metadata": {},
   "outputs": [],
   "source": [
    "folder_names = ['csv files', 'xlsx files', 'sql files', 'twb files']\n",
    "\n",
    "for loop in range(len(folder_names)):\n",
    "    if not os.path.exists(path + folder_names[loop]):\n",
    "        os.makedirs(path + folder_names[loop])"
   ]
  },
  {
   "cell_type": "code",
   "execution_count": 10,
   "id": "06fd00d7",
   "metadata": {},
   "outputs": [],
   "source": [
    "for file in file_names:\n",
    "    if '.csv' in file and not os.path.exists(path + 'csv files/' + file):\n",
    "        shutil.move(path + file, path + 'csv files/' + file)\n",
    "    if '.xlsx' in file and not os.path.exists(path + 'xlsx files/' + file):\n",
    "        shutil.move(path + file, path + 'xlsx files/' + file)\n",
    "    if '.sql' in file and not os.path.exists(path + 'sql files/' + file):\n",
    "        shutil.move(path + file, path + 'sql files/' + file)\n",
    "    if '.twb' in file and not os.path.exists(path + 'twb files/' + file):\n",
    "        shutil.move(path + file, path + 'twb files/' + file)"
   ]
  },
  {
   "cell_type": "code",
   "execution_count": null,
   "id": "fcd0e47f",
   "metadata": {},
   "outputs": [],
   "source": []
  }
 ],
 "metadata": {
  "kernelspec": {
   "display_name": "Python 3 (ipykernel)",
   "language": "python",
   "name": "python3"
  },
  "language_info": {
   "codemirror_mode": {
    "name": "ipython",
    "version": 3
   },
   "file_extension": ".py",
   "mimetype": "text/x-python",
   "name": "python",
   "nbconvert_exporter": "python",
   "pygments_lexer": "ipython3",
   "version": "3.9.13"
  }
 },
 "nbformat": 4,
 "nbformat_minor": 5
}
